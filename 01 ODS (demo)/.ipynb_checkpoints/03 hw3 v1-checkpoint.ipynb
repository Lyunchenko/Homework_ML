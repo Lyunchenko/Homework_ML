{
 "cells": [
  {
   "cell_type": "markdown",
   "metadata": {},
   "source": [
    "<center>\n",
    "<img src=\"img/ods_stickers.jpg\">\n",
    "## Открытый курс по машинному обучению. Сессия № 3\n",
    "</center>\n",
    "Авторы материала: аспирант Мехмата МГУ Евгений Колмаков, программист-исследователь Mail.ru Group Юрий Кашницкий. Материал распространяется на условиях лицензии [Creative Commons CC BY-NC-SA 4.0](https://creativecommons.org/licenses/by-nc-sa/4.0/). Можно использовать в любых целях (редактировать, поправлять и брать за основу), кроме коммерческих, но с обязательным упоминанием автора материала."
   ]
  },
  {
   "cell_type": "markdown",
   "metadata": {},
   "source": [
    "# <center>Домашнее задание № 3. Опциональная часть \n",
    "## <center> Реализация алгоритма построения дерева решений"
   ]
  },
  {
   "cell_type": "code",
   "execution_count": 2,
   "metadata": {},
   "outputs": [],
   "source": [
    "import numpy as np\n",
    "import pandas as pd\n",
    "#from matplotlib import pyplot as plt\n",
    "%matplotlib inline\n",
    "from sklearn.base import BaseEstimator\n",
    "from sklearn.datasets import make_classification, make_regression, load_digits, load_boston\n",
    "from sklearn.model_selection import train_test_split, GridSearchCV\n",
    "from sklearn.metrics import accuracy_score, mean_squared_error"
   ]
  },
  {
   "cell_type": "markdown",
   "metadata": {},
   "source": [
    "Зафиксируем заранее `random_state` (a.k.a. random seed). Это должно повысить вероятность полной воспроизводимости результатов, впрочем, замечено, что тем не менее небольшие флуктуации возможны (например, качества прогнозов дерева, которое мы сейчас вырастим) в случае разных ОС."
   ]
  },
  {
   "cell_type": "code",
   "execution_count": 3,
   "metadata": {},
   "outputs": [],
   "source": [
    "RANDOM_STATE = 17"
   ]
  },
  {
   "cell_type": "markdown",
   "metadata": {
    "collapsed": true
   },
   "source": [
    "**Необходимо реализовать класс `DecisionTree`**\n",
    "\n",
    "**Спецификация:**\n",
    "- класс наследуется от `sklearn.BaseEstimator`;\n",
    "- конструктор содержит следующие параметры: \n",
    "    `max_depth` - максимальная глубина дерева (по умолчанию - `numpy.inf`); \n",
    "    `min_samples_split` - минимальное число объектов в вершине, при котором происходит её разбиение (по умолчанию - 2); \n",
    "    `criterion` - критерий разбиения (для классификации - 'gini' или 'entropy', для регрессии - 'variance' или 'mad_median'; \n",
    "    по умолчанию - 'gini');\n",
    "    \n",
    "    Функционал, значение которого максимизируется для поиска оптимального разбиения в данной вершине имеет вид\n",
    "    $$Q(X, j, t) = F(X) - \\dfrac{|X_l|}{|X|} F(X_l) - \\dfrac{|X_r|}{|X|} F(X_r),$$\n",
    "    где $X$ - выборка, находящаяся в текущей вершине, $X_l$ и $X_r$ - разбиение выборки $X$ на две части \n",
    "    по предикату $[x_j < t]$, а $F(X)$ -критерий разбиения.\n",
    "    \n",
    "    Для классификации: пусть $p_i$ - доля объектов $i$-го класса в выборке $X$.\n",
    "    \n",
    "    'gini': Неопределенность Джини $F(X) = 1 -\\sum_{i = 1}^K p_i^2$.\n",
    "    \n",
    "    'entropy': Энтропия $F(X) = -\\sum_{i = 1}^K p_i \\log_2(p_i)$.\n",
    "    \n",
    "    Для регрессии: $y_j = y(x_j)$ - ответ на объекте $x_j$, $y = (y_1, \\dots, y_{|X|})$ - вектор ответов.\n",
    "    \n",
    "    'variance': Дисперсия (среднее квадратичное отклонение от среднего) $F(X) = \\dfrac{1}{|X|} \\sum_{x_j \\in X}(y_j - \\dfrac{1}{|X|}\\sum_{x_i \\in X}y_i)^2$\n",
    "    \n",
    "    'mad_median': Среднее отклонение от медианы $F(X) = \\dfrac{1}{|X|} \\sum_{x_j \\in X}|y_j - \\mathrm{med}(y)|$\n",
    "    \n",
    "- класс имеет методы `fit`, `predict` и `predict_proba`;\n",
    "- метод `fit` принимает матрицу объектов `X` и вектор ответов `y` (объекты `numpy.ndarray`) и возвращает экземпляр класса\n",
    "    `DecisionTree`, представляющий собой решающее дерево, обученное по выборке `(X, y)` с учётом заданных в конструкторе параметров; \n",
    "- метод `predict_proba` принимает матрицу объектов `X` и возвращает матрицу `P` размера `X.shape[0] x K`, где `K` - число классов, такую что $p_{ij}$ есть вероятность принадлежности объекта, заданного $i$-ой строкой матрицы X к классу $j \\in \\{1, \\dots, K\\}$.\n",
    "- метод `predict` принимает матрицу объектов и возвращает вектор предсказанных ответов; в случае классификации - это \n",
    "    наиболее многочисленный класс в листе, в который попал объект, а в случае регрессии - среднее значение ответов по \n",
    "    всем объектам этого листа;"
   ]
  },
  {
   "cell_type": "code",
   "execution_count": 3,
   "metadata": {},
   "outputs": [],
   "source": [
    "def entropy(y):    \n",
    "    pass\n",
    "\n",
    "def gini(y):\n",
    "    pass\n",
    "\n",
    "def variance(y):\n",
    "    pass\n",
    "\n",
    "def mad_median(y):\n",
    "    pass"
   ]
  },
  {
   "cell_type": "code",
   "execution_count": 4,
   "metadata": {},
   "outputs": [],
   "source": [
    "class DecisionTree(BaseEstimator):\n",
    "    \n",
    "    def __init__(self, max_depth=np.inf, min_samples_split=2, \n",
    "                 criterion='gini', debug=False):\n",
    "        pass\n",
    "    \n",
    "    def fit(self, X, y):\n",
    "        pass\n",
    "        \n",
    "    def predict(self, X):\n",
    "        pass\n",
    "        \n",
    "    def predict_proba(self, X):\n",
    "        pass"
   ]
  },
  {
   "cell_type": "code",
   "execution_count": 4,
   "metadata": {},
   "outputs": [],
   "source": [
    "class DecisionTree(BaseEstimator):\n",
    "    \n",
    "    def __init__(self, max_depth=np.inf, min_samples_split=2, \n",
    "                 criterion='entropy', debug=False):\n",
    "        self.max_depth = max_depth\n",
    "        self.min_samples_split = min_samples_split\n",
    "        self.debug = debug\n",
    "        if criterion=='entropy':\n",
    "            self.criterion_func = self._entropy\n",
    "            self.type_answer = 'max_count' # 'avg'\n",
    "\n",
    "    def fit(self, X, y):\n",
    "        data = np.c_[X, y]\n",
    "        self.y_var = np.unique(y, axis=0)\n",
    "        self.tree = np.array(self._get_tree(data, '1'))\n",
    "\n",
    "    def predict(self, X):\n",
    "        y = []\n",
    "        for line in X:\n",
    "            answer = self._get_leaf(line,'1')\n",
    "            y.append(self._get_answer_val(answer))\n",
    "        y = np.array(y)\n",
    "        return(y)\n",
    "\n",
    "    def predict_proba(self, X):\n",
    "        y = []\n",
    "        for line in X:\n",
    "            answer = self._get_leaf(line,'1')\n",
    "            var_answer = answer[:,0]\n",
    "            dif_var = np.array(np.setdiff1d(self.y_var, var_answer))\n",
    "            p_0 = np.array([0 for x in range(len(dif_var))])\n",
    "            dif = np.c_[dif_var, p_0]\n",
    "            answer = np.append(answer, dif, axis=0)\n",
    "            answer = answer[answer[:,0].argsort()]\n",
    "            y.append(answer[:,1])\n",
    "        y = np.array(y)\n",
    "        return(y)\n",
    "\n",
    "    # Функции оценки\n",
    "    def _entropy(self, y):\n",
    "        proba = self._get_proba(y)\n",
    "        entropy = 0\n",
    "        for x in proba:\n",
    "            entropy -= x[1]*mt.log(x[1], 2)\n",
    "        return(entropy)\n",
    "\n",
    "    def _gini(self, y):\n",
    "        pass\n",
    "\n",
    "    def _variance(self, y):\n",
    "        pass\n",
    "\n",
    "    def _mad_median(self, y):\n",
    "        pass\n",
    "\n",
    "    def _get_proba(self, y):\n",
    "        val, count = np.unique(y, return_counts=True, axis=0)\n",
    "        value_count = np.c_[val, count]\n",
    "        count_y = y.shape[0]\n",
    "        proba = np.c_[value_count[:,0], value_count[:,1]/count_y]\n",
    "        return(proba)\n",
    "    \n",
    "    # Построение дерева\n",
    "    def _information_gain(self, data, data_left, data_right):\n",
    "        count = data.shape[0]\n",
    "        count_left = data_left.shape[0]\n",
    "        count_right = data_right.shape[0]\n",
    "        fval = self.criterion_func(data)\n",
    "        fval_left = self.criterion_func(data_left)\n",
    "        fval_right = self.criterion_func(data_right)\n",
    "        ig = fval - fval_left*count_left/count - fval_right*count_right/count\n",
    "        return(ig)\n",
    "\n",
    "    def _best_split(self, data):\n",
    "        index_y = data.shape[1]-1\n",
    "        best_split = {'ig': 0, 'column': 0, 'val': 0}\n",
    "        for i in range(index_y):\n",
    "            unique_val = np.unique(data[:, i], axis=0)\n",
    "            unique_val = np.sort(unique_val)[:-1]\n",
    "            for val in unique_val:\n",
    "                data_left = data[data[:,i]<=val]\n",
    "                data_right = data[data[:,i]>val]\n",
    "                ig = self._information_gain(data[:, index_y], data_left[:, index_y], data_right[:, index_y])\n",
    "                \n",
    "                if ig > best_split['ig']:\n",
    "                    best_split['ig'] = ig\n",
    "                    best_split['column'] = i\n",
    "                    best_split['val'] = val\n",
    "        if best_split['ig'] == 0:\n",
    "            return(False)\n",
    "        else:\n",
    "            return(best_split)\n",
    "\n",
    "    def _get_tree(self, data, id_tree):\n",
    "        split = data.shape[0]>=self.min_samples_split \\\n",
    "                    and self._best_split(data)\n",
    "        if split and len(id_tree) < self.max_depth:\n",
    "            # Деление ветвей\n",
    "            id_tree_left = id_tree + '1'\n",
    "            id_tree_right = id_tree + '2'\n",
    "            tree = [[id_tree,\n",
    "                    {'column': split['column'], \n",
    "                     'val': split['val'],\n",
    "                     'id_left': id_tree_left,\n",
    "                     'id_right': id_tree_right,\n",
    "                     'is_leaf' : False,\n",
    "                     'leaf_data': None}]]\n",
    "            data_left = data[data[:,split['column']]<=split['val']]\n",
    "            data_right = data[data[:,split['column']]>split['val']]\n",
    "            tree.extend(self._get_tree(data_left, id_tree_left))\n",
    "            tree.extend(self._get_tree(data_right, id_tree_right))\n",
    "            return(tree)\n",
    "        else:\n",
    "            # Формирование листа дерева\n",
    "            proba = self._get_proba(data[:,-1])\n",
    "            tree = [[id_tree,\n",
    "                    {'column': None, \n",
    "                     'val': None,\n",
    "                     'id_left': None,\n",
    "                     'id_right': None,\n",
    "                     'is_leaf' : True,\n",
    "                     'leaf_data': proba}]]\n",
    "        return(tree)\n",
    "\n",
    "    # Поиск решения по дереву\n",
    "    def _get_leaf(self, line, id_tree):\n",
    "        instruction = self.tree[self.tree[:,0]==id_tree][0][1]\n",
    "        if instruction['is_leaf']:\n",
    "            return(instruction['leaf_data'])\n",
    "        else:\n",
    "            if line[instruction['column']]<=instruction['val']:\n",
    "                return(self._get_leaf(line, instruction['id_left']))\n",
    "            else:\n",
    "                return(self._get_leaf(line, instruction['id_right']))\n",
    "\n",
    "    def _get_answer_val(self, answer_arr):\n",
    "        if self.type_answer == 'max_count':\n",
    "            answer = answer_arr[answer_arr[:,1].argsort()]\n",
    "            answer = answer[-1][0]\n",
    "            return(answer)\n",
    "        elif self.type_answer == 'avg':\n",
    "            answer = answer_arr[:,0]*answer_arr[:,1]\n",
    "            answer = answer.sum()\n",
    "            return(answer)"
   ]
  },
  {
   "cell_type": "markdown",
   "metadata": {},
   "source": [
    "## Тестирование реализованного алгоритма"
   ]
  },
  {
   "cell_type": "markdown",
   "metadata": {},
   "source": [
    "### Классификация"
   ]
  },
  {
   "cell_type": "markdown",
   "metadata": {},
   "source": [
    "С помощью метода `load_digits` загрузите датасет `digits`. Разделите выборку на обучающую и тестовую с помощью метода `train_test_split`, используйте значения параметров `test_size=0.2`, `random_state=17`. Попробуйте обучить неглубокие решающие деревья и убедитесь, что критерии gini и entropy дают разные результаты."
   ]
  },
  {
   "cell_type": "code",
   "execution_count": null,
   "metadata": {},
   "outputs": [],
   "source": [
    "from tqdm import tqdm_notebook as tqdm\n",
    "tqdm.write()"
   ]
  },
  {
   "cell_type": "code",
   "execution_count": 5,
   "metadata": {},
   "outputs": [],
   "source": [
    "data = load_digits()\n",
    "X, y = data.data, data.target\n",
    "X_train, X_holdout, y_train, y_holdout = train_test_split(X, y, test_size=0.2, random_state=17)"
   ]
  },
  {
   "cell_type": "code",
   "execution_count": 6,
   "metadata": {},
   "outputs": [
    {
     "data": {
      "text/plain": [
       "array([ 0.,  0.,  3., 14., 15.,  9.,  0.,  0.,  0.,  0., 10., 16., 16.,\n",
       "       13.,  0.,  0.,  0.,  2., 13., 16., 16.,  4.,  0.,  0.,  0.,  0.,\n",
       "       12., 16., 16.,  4.,  0.,  0.,  0.,  2., 13., 16., 16.,  4.,  0.,\n",
       "        0.,  0.,  0., 12., 16., 16.,  4.,  0.,  0.,  0.,  0.,  6., 16.,\n",
       "       16., 16.,  6.,  0.,  0.,  0.,  2., 10., 16., 16.,  2.,  0.])"
      ]
     },
     "execution_count": 6,
     "metadata": {},
     "output_type": "execute_result"
    }
   ],
   "source": [
    "X_train[0]"
   ]
  },
  {
   "cell_type": "code",
   "execution_count": 7,
   "metadata": {},
   "outputs": [
    {
     "data": {
      "text/plain": [
       "numpy.ndarray"
      ]
     },
     "execution_count": 7,
     "metadata": {},
     "output_type": "execute_result"
    }
   ],
   "source": [
    "type(X_train)"
   ]
  },
  {
   "cell_type": "code",
   "execution_count": 8,
   "metadata": {},
   "outputs": [
    {
     "data": {
      "text/plain": [
       "<pandas.core.indexing._LocIndexer at 0x14184db0>"
      ]
     },
     "execution_count": 8,
     "metadata": {},
     "output_type": "execute_result"
    }
   ],
   "source": [
    "df = pd.DataFrame(X_train)\n",
    "df.loc()"
   ]
  },
  {
   "cell_type": "markdown",
   "metadata": {},
   "source": [
    "С помощью 5-кратной кросс-валидации (`GridSearchCV`) подберите оптимальное значение параметров `max_depth` и `criterion`. Для параметра `max_depth` используйте диапазон значений - range(3, 11), а для criterion - {'gini', 'entropy'}. Критерий качества `scoring`='accuracy'."
   ]
  },
  {
   "cell_type": "code",
   "execution_count": 16,
   "metadata": {},
   "outputs": [
    {
     "name": "stdout",
     "output_type": "stream",
     "text": [
      "Fitting 5 folds for each of 16 candidates, totalling 80 fits\n"
     ]
    },
    {
     "name": "stderr",
     "output_type": "stream",
     "text": [
      "[Parallel(n_jobs=1)]: Using backend SequentialBackend with 1 concurrent workers.\n",
      "[Parallel(n_jobs=1)]: Done  80 out of  80 | elapsed:    1.3s finished\n",
      "c:\\users\\stas\\appdata\\local\\programs\\python\\python37-32\\lib\\site-packages\\sklearn\\model_selection\\_search.py:841: DeprecationWarning: The default of the `iid` parameter will change from True to False in version 0.22 and will be removed in 0.24. This will change numeric results when test-set sizes are unequal.\n",
      "  DeprecationWarning)\n"
     ]
    },
    {
     "data": {
      "text/plain": [
       "({'criterion': 'entropy', 'max_depth': 9}, 0.8684759916492694)"
      ]
     },
     "execution_count": 16,
     "metadata": {},
     "output_type": "execute_result"
    }
   ],
   "source": [
    "tree_params = {'max_depth': [x for x in range(3, 11)], 'criterion': ['gini', 'entropy']}\n",
    "tree_grid = GridSearchCV(tree, tree_params, cv=5, n_jobs=1, verbose=True, scoring='accuracy')\n",
    "tree_grid.fit(X_train, y_train)\n",
    "tree_grid.best_params_, tree_grid.best_score_"
   ]
  },
  {
   "cell_type": "markdown",
   "metadata": {},
   "source": [
    "Постройте графики средних значений критерия качества `accuracy` для критериев `gini` и `entropy` в зависимости от `max_depth`."
   ]
  },
  {
   "cell_type": "code",
   "execution_count": null,
   "metadata": {},
   "outputs": [],
   "source": [
    "# Ваш код здесь ???????????????????"
   ]
  },
  {
   "cell_type": "markdown",
   "metadata": {},
   "source": [
    "**Выберите верные утверждения:**\n",
    "1. Оптимальное значение `max_depth` для каждого критерия достигается на отрезке [4, 9].\n",
    "2. На отрезке [3, 10] построенные графики не пересекаются.\n",
    "3. На отрезке [3, 10] построенные графики пересекаются ровно один раз.\n",
    "4. Наилучшее качество при `max_depth` на интервале [3, 10] достигается при использовании критерия `gini`.\n",
    "5. Хотя бы для одного из критериев значение accuracy строго возрастает с ростом значения `max_depth` на интервале [3, 10]."
   ]
  },
  {
   "cell_type": "markdown",
   "metadata": {},
   "source": [
    "**Чему равны найденные оптимальные значения параметров max_depth и criterion?**\n",
    "1. max_depth = 7, criterion = 'gini';\n",
    "2. max_depth = 7, criterion = 'entropy';\n",
    "3. max_depth = 10, criterion = 'entropy';\n",
    "4. max_depth = 10, criterion = 'gini';\n",
    "5. max_depth = 9, criterion = 'entropy';\n",
    "6. max_depth = 9, criterion = 'gini';"
   ]
  },
  {
   "cell_type": "markdown",
   "metadata": {},
   "source": [
    "Используя найденные оптимальные значения max_depth и criterion, обучите решающее дерево на X_train, y_train и вычислите вероятности принадлежности к классам для X_test."
   ]
  },
  {
   "cell_type": "code",
   "execution_count": 8,
   "metadata": {},
   "outputs": [
    {
     "data": {
      "text/plain": [
       "0.8861111111111111"
      ]
     },
     "execution_count": 8,
     "metadata": {},
     "output_type": "execute_result"
    }
   ],
   "source": [
    "from sklearn.tree import DecisionTreeClassifier\n",
    "tree = DecisionTreeClassifier(max_depth=9, criterion='entropy', random_state=17)\n",
    "tree.fit(X_train, y_train)\n",
    "tree_pred = tree.predict(X_holdout)\n",
    "accuracy_score(y_holdout, tree_pred)"
   ]
  },
  {
   "cell_type": "code",
   "execution_count": 9,
   "metadata": {},
   "outputs": [
    {
     "name": "stdout",
     "output_type": "stream",
     "text": [
      "1 1 [0. 1. 0. 0. 0. 0. 0. 0. 0. 0.]\n",
      "2 8 [0. 0. 0. 0. 0. 0. 0. 0. 1. 0.]\n",
      "7 7 [0. 0. 0. 0. 0. 0. 0. 1. 0. 0.]\n",
      "3 1 [0. 1. 0. 0. 0. 0. 0. 0. 0. 0.]\n",
      "9 9 [0. 0. 0. 0. 0. 0. 0. 0. 0. 1.]\n",
      "5 5 [0. 0. 0. 0. 0. 1. 0. 0. 0. 0.]\n",
      "8 8 [0. 0. 0. 0. 0. 0. 0. 0. 1. 0.]\n",
      "9 9 [0. 0. 0. 0. 0. 0. 0. 0. 0. 1.]\n",
      "8 8 [0. 0. 0. 0. 0. 0. 0. 0. 1. 0.]\n",
      "1 1 [0. 1. 0. 0. 0. 0. 0. 0. 0. 0.]\n"
     ]
    }
   ],
   "source": [
    "predict_proba = tree.predict_proba(X_holdout).round(0)\n",
    "predict_proba[:10]\n",
    "for i in range(10):\n",
    "    print(y_holdout[i], tree_pred[i], predict_proba[i])"
   ]
  },
  {
   "cell_type": "markdown",
   "metadata": {},
   "source": [
    "Для полученной матрицы вычислите усредненные по всем объектам из `X_test` значения вероятностей принадлежности к классам."
   ]
  },
  {
   "cell_type": "code",
   "execution_count": 10,
   "metadata": {},
   "outputs": [
    {
     "name": "stdout",
     "output_type": "stream",
     "text": [
      "Object `?` not found.\n"
     ]
    }
   ],
   "source": [
    "???"
   ]
  },
  {
   "cell_type": "code",
   "execution_count": 11,
   "metadata": {},
   "outputs": [
    {
     "data": {
      "text/plain": [
       "0.1"
      ]
     },
     "execution_count": 11,
     "metadata": {},
     "output_type": "execute_result"
    }
   ],
   "source": [
    "predict_proba = tree.predict_proba(X_holdout)\n",
    "df_predict_proba = pd.DataFrame(predict_proba).reset_index()\n",
    "df_predict_proba = pd.melt(frame=df_predict_proba, value_vars=[x for x in range(10)], id_vars='index')\n",
    "df_predict_proba = df_predict_proba.groupby('index')['value'].mean()\n",
    "df_predict_proba.max()"
   ]
  },
  {
   "cell_type": "markdown",
   "metadata": {},
   "source": [
    "**Вопрос:** Чему примерно равна максимальная вероятность в полученном векторе?\n",
    "1. 0.127\n",
    "2. 0.118\n",
    "3. 1.0\n",
    "4. 0.09"
   ]
  },
  {
   "cell_type": "markdown",
   "metadata": {},
   "source": [
    "### Регрессия"
   ]
  },
  {
   "cell_type": "markdown",
   "metadata": {},
   "source": [
    "С помощью метода `load_boston` загрузите датасет `boston`. Разделите выборку на обучающую и тестовую с помощью метода `train_test_split`, используйте значения параметров `test_size=0.2`, `random_state=17`. Попробуйте обучить неглубокие регрессионные деревья и убедитесь, что критерии `variance` и `mad_median` дают разные результаты."
   ]
  },
  {
   "cell_type": "code",
   "execution_count": 148,
   "metadata": {},
   "outputs": [],
   "source": [
    "data = load_boston()\n",
    "X, y = data.data, data.target\n",
    "X_train, X_holdout, y_train, y_holdout = train_test_split(X, y, test_size=0.2, random_state=17)"
   ]
  },
  {
   "cell_type": "code",
   "execution_count": 156,
   "metadata": {},
   "outputs": [
    {
     "name": "stdout",
     "output_type": "stream",
     "text": [
      "30.5 24.79512195121952\n",
      "22.0 21.138333333333332\n",
      "17.7 21.138333333333332\n",
      "50.0 46.333333333333336\n",
      "23.3 24.79512195121952\n",
      "19.9 21.138333333333332\n",
      "37.6 46.333333333333336\n",
      "23.3 24.79512195121952\n",
      "8.8 9.114285714285716\n",
      "32.5 24.79512195121952\n"
     ]
    }
   ],
   "source": [
    "from sklearn.tree import DecisionTreeRegressor\n",
    "reg_tree = DecisionTreeRegressor(max_depth=5, random_state=17)\n",
    "reg_tree.fit(X_train, y_train)\n",
    "reg_tree_pred = reg_tree.predict(X_holdout)\n",
    "\n",
    "for i in range(10):\n",
    "    print(y_holdout[i], reg_tree_pred[i])"
   ]
  },
  {
   "cell_type": "markdown",
   "metadata": {},
   "source": [
    "С помощью 5-кратной кросс-валидации подберите оптимальное значение параметров `max_depth` и `criterion`. Для параметра `max_depth` используйте диапазон значений - `range(2, 9)`, а для `criterion` - {'variance', 'mad_median'}. Критерий качества `scoring`='neg_mean_squared_error'."
   ]
  },
  {
   "cell_type": "code",
   "execution_count": 178,
   "metadata": {},
   "outputs": [
    {
     "name": "stdout",
     "output_type": "stream",
     "text": [
      "Fitting 5 folds for each of 7 candidates, totalling 35 fits\n"
     ]
    },
    {
     "name": "stderr",
     "output_type": "stream",
     "text": [
      "[Parallel(n_jobs=1)]: Using backend SequentialBackend with 1 concurrent workers.\n",
      "[Parallel(n_jobs=1)]: Done  35 out of  35 | elapsed:    0.3s finished\n",
      "c:\\users\\stas\\appdata\\local\\programs\\python\\python37-32\\lib\\site-packages\\sklearn\\model_selection\\_search.py:841: DeprecationWarning: The default of the `iid` parameter will change from True to False in version 0.22 and will be removed in 0.24. This will change numeric results when test-set sizes are unequal.\n",
      "  DeprecationWarning)\n"
     ]
    },
    {
     "data": {
      "text/plain": [
       "({'max_depth': 8}, -3.0268228586590404)"
      ]
     },
     "execution_count": 178,
     "metadata": {},
     "output_type": "execute_result"
    }
   ],
   "source": [
    "reg_tree_params = {'max_depth': [x for x in range(2, 9)]}#, 'criterion': ['variance', 'mad_median']}\n",
    "tree = DecisionTreeRegressor(random_state=17)\n",
    "reg_tree_grid = GridSearchCV(tree, reg_tree_params, cv=5, n_jobs=1, verbose=True, scoring='neg_mean_squared_error')\n",
    "reg_tree_grid.fit(X_train, y_train)\n",
    "reg_tree_grid.best_params_, reg_tree_grid.best_score_"
   ]
  },
  {
   "cell_type": "markdown",
   "metadata": {},
   "source": [
    "Постройте графики средних значений критерия качества `neg_mean_squared_error` для критериев `variance` и `mad_median` в зависимости от `max_depth`."
   ]
  },
  {
   "cell_type": "code",
   "execution_count": null,
   "metadata": {
    "collapsed": true
   },
   "outputs": [],
   "source": [
    "# Ваш код здесь"
   ]
  },
  {
   "cell_type": "markdown",
   "metadata": {},
   "source": [
    "**Выберите верные утверждения:**\n",
    "1. На отрезке [2, 8] построенные графики не пересекаются.\n",
    "2. На отрезке [2, 8] построенные графики пересекаются ровно один раз.\n",
    "3. Оптимальное значение `max_depth` для каждого из критериев достигается на границе отрезка [2, 8].\n",
    "4. Наилучшее качество при `max_depth` из [2, 8] достигается при использовании критерия `mad_median`."
   ]
  },
  {
   "cell_type": "markdown",
   "metadata": {},
   "source": [
    "**Чему равны найденные оптимальные значения параметров `max_depth` и `criterion`?**\n",
    "1. max_depth = 9, criterion = 'variance';\n",
    "2. max_depth = 5, criterion = 'mad_median';\n",
    "3. max_depth = 4, criterion = 'variance';\n",
    "4. max_depth = 2, criterion = 'mad_median';\n",
    "5. max_depth = 4, criterion = 'mad_median';\n",
    "6. max_depth = 5, criterion = 'variance';"
   ]
  }
 ],
 "metadata": {
  "kernelspec": {
   "display_name": "Python 3",
   "language": "python",
   "name": "python3"
  },
  "language_info": {
   "codemirror_mode": {
    "name": "ipython",
    "version": 3
   },
   "file_extension": ".py",
   "mimetype": "text/x-python",
   "name": "python",
   "nbconvert_exporter": "python",
   "pygments_lexer": "ipython3",
   "version": "3.7.0"
  },
  "name": "lesson4_part2_Decision_trees.ipynb"
 },
 "nbformat": 4,
 "nbformat_minor": 1
}
