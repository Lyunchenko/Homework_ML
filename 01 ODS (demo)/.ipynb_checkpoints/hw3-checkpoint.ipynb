{
 "cells": [
  {
   "cell_type": "markdown",
   "metadata": {},
   "source": [
    "<center>\n",
    "<img src=\"img/ods_stickers.jpg\">\n",
    "## Открытый курс по машинному обучению. Сессия № 3\n",
    "</center>\n",
    "Авторы материала: аспирант Мехмата МГУ Евгений Колмаков, программист-исследователь Mail.ru Group Юрий Кашницкий. Материал распространяется на условиях лицензии [Creative Commons CC BY-NC-SA 4.0](https://creativecommons.org/licenses/by-nc-sa/4.0/). Можно использовать в любых целях (редактировать, поправлять и брать за основу), кроме коммерческих, но с обязательным упоминанием автора материала."
   ]
  },
  {
   "cell_type": "markdown",
   "metadata": {},
   "source": [
    "# <center>Домашнее задание № 3. Опциональная часть \n",
    "## <center> Реализация алгоритма построения дерева решений"
   ]
  },
  {
   "cell_type": "code",
   "execution_count": 2,
   "metadata": {},
   "outputs": [],
   "source": [
    "import numpy as np\n",
    "from matplotlib import pyplot as plt\n",
    "%matplotlib inline\n",
    "from sklearn.base import BaseEstimator\n",
    "from sklearn.datasets import make_classification, make_regression, load_digits, load_boston\n",
    "from sklearn.model_selection import train_test_split, GridSearchCV\n",
    "from sklearn.metrics import accuracy_score, mean_squared_error"
   ]
  },
  {
   "cell_type": "markdown",
   "metadata": {},
   "source": [
    "Зафиксируем заранее `random_state` (a.k.a. random seed). Это должно повысить вероятность полной воспроизводимости результатов, впрочем, замечено, что тем не менее небольшие флуктуации возможны (например, качества прогнозов дерева, которое мы сейчас вырастим) в случае разных ОС."
   ]
  },
  {
   "cell_type": "code",
   "execution_count": 3,
   "metadata": {},
   "outputs": [],
   "source": [
    "RANDOM_STATE = 17"
   ]
  },
  {
   "cell_type": "markdown",
   "metadata": {
    "collapsed": true
   },
   "source": [
    "**Необходимо реализовать класс `DecisionTree`**\n",
    "\n",
    "**Спецификация:**\n",
    "- класс наследуется от `sklearn.BaseEstimator`;\n",
    "- конструктор содержит следующие параметры: \n",
    "    `max_depth` - максимальная глубина дерева (по умолчанию - `numpy.inf`); \n",
    "    `min_samples_split` - минимальное число объектов в вершине, при котором происходит её разбиение (по умолчанию - 2); \n",
    "    `criterion` - критерий разбиения (для классификации - 'gini' или 'entropy', для регрессии - 'variance' или 'mad_median'; \n",
    "    по умолчанию - 'gini');\n",
    "    \n",
    "    Функционал, значение которого максимизируется для поиска оптимального разбиения в данной вершине имеет вид\n",
    "    $$Q(X, j, t) = F(X) - \\dfrac{|X_l|}{|X|} F(X_l) - \\dfrac{|X_r|}{|X|} F(X_r),$$\n",
    "    где $X$ - выборка, находящаяся в текущей вершине, $X_l$ и $X_r$ - разбиение выборки $X$ на две части \n",
    "    по предикату $[x_j < t]$, а $F(X)$ -критерий разбиения.\n",
    "    \n",
    "    Для классификации: пусть $p_i$ - доля объектов $i$-го класса в выборке $X$.\n",
    "    \n",
    "    'gini': Неопределенность Джини $F(X) = 1 -\\sum_{i = 1}^K p_i^2$.\n",
    "    \n",
    "    'entropy': Энтропия $F(X) = -\\sum_{i = 1}^K p_i \\log_2(p_i)$.\n",
    "    \n",
    "    Для регрессии: $y_j = y(x_j)$ - ответ на объекте $x_j$, $y = (y_1, \\dots, y_{|X|})$ - вектор ответов.\n",
    "    \n",
    "    'variance': Дисперсия (среднее квадратичное отклонение от среднего) $F(X) = \\dfrac{1}{|X|} \\sum_{x_j \\in X}(y_j - \\dfrac{1}{|X|}\\sum_{x_i \\in X}y_i)^2$\n",
    "    \n",
    "    'mad_median': Среднее отклонение от медианы $F(X) = \\dfrac{1}{|X|} \\sum_{x_j \\in X}|y_j - \\mathrm{med}(y)|$\n",
    "    \n",
    "- класс имеет методы `fit`, `predict` и `predict_proba`;\n",
    "- метод `fit` принимает матрицу объектов `X` и вектор ответов `y` (объекты `numpy.ndarray`) и возвращает экземпляр класса\n",
    "    `DecisionTree`, представляющий собой решающее дерево, обученное по выборке `(X, y)` с учётом заданных в конструкторе параметров; \n",
    "- метод `predict_proba` принимает матрицу объектов `X` и возвращает матрицу `P` размера `X.shape[0] x K`, где `K` - число классов, такую что $p_{ij}$ есть вероятность принадлежности объекта, заданного $i$-ой строкой матрицы X к классу $j \\in \\{1, \\dots, K\\}$.\n",
    "- метод `predict` принимает матрицу объектов и возвращает вектор предсказанных ответов; в случае классификации - это \n",
    "    наиболее многочисленный класс в листе, в который попал объект, а в случае регрессии - среднее значение ответов по \n",
    "    всем объектам этого листа;"
   ]
  },
  {
   "cell_type": "code",
   "execution_count": 4,
   "metadata": {},
   "outputs": [],
   "source": [
    "import numpy as np\n",
    "import math as mt\n",
    "from sklearn.base import BaseEstimator\n",
    "\n",
    "\n",
    "class DecisionTree(BaseEstimator):\n",
    "    \n",
    "    def __init__(self, max_depth=np.inf, min_samples_split=2, \n",
    "                 criterion='gini', debug=False):\n",
    "        self.max_depth = max_depth\n",
    "        self.min_samples_split = min_samples_split\n",
    "        self.debug = debug\n",
    "        self.criterion = criterion\n",
    "\n",
    "    def fit(self, X, y):\n",
    "        if self.criterion=='entropy':\n",
    "            self.criterion_func = self._entropy\n",
    "            self.type_answer = 'max_count'\n",
    "        elif self.criterion=='gini':\n",
    "            self.criterion_func = self._gini\n",
    "            self.type_answer = 'max_count'\n",
    "        elif self.criterion=='variance':\n",
    "            self.criterion_func = self._variance\n",
    "            self.type_answer = 'avg'\n",
    "        elif self.criterion=='mad_median':\n",
    "            self.criterion_func = self._mad_median\n",
    "            self.type_answer = 'avg'\n",
    "        data = np.c_[X, y]\n",
    "        self.y_var = np.unique(y, axis=0)\n",
    "        self.tree = np.array(self._get_tree(data, '1'))\n",
    "\n",
    "    def predict(self, X):\n",
    "        y = []\n",
    "        for line in X:\n",
    "            answer = self._get_leaf(line,'1')\n",
    "            y.append(self._get_answer_val(answer))\n",
    "        y = np.array(y)\n",
    "        return(y)\n",
    "\n",
    "    def predict_proba(self, X):\n",
    "        y = []\n",
    "        for line in X:\n",
    "            answer = self._get_leaf(line,'1')\n",
    "            var_answer = answer[:,0]\n",
    "            dif_var = np.array(np.setdiff1d(self.y_var, var_answer))\n",
    "            p_0 = np.array([0 for x in range(len(dif_var))])\n",
    "            dif = np.c_[dif_var, p_0]\n",
    "            answer = np.append(answer, dif, axis=0)\n",
    "            answer = answer[answer[:,0].argsort()]\n",
    "            y.append(answer[:,1])\n",
    "        y = np.array(y)\n",
    "        return(y)\n",
    "\n",
    "    # Функции оценки\n",
    "    def _entropy(self, y):\n",
    "        proba = self._get_proba(y)\n",
    "        entropy = 0\n",
    "        for p in proba:\n",
    "            entropy -= p[1]*mt.log(p[1], 2)\n",
    "        return(entropy)\n",
    "\n",
    "    def _gini(self, y):\n",
    "        proba = self._get_proba(y)\n",
    "        gini = 1\n",
    "        for p in proba:\n",
    "            gini -= p[1]**2\n",
    "        return(gini)\n",
    "\n",
    "    def _variance(self, y):\n",
    "        variance = y.std()**2\n",
    "        return(variance)\n",
    "\n",
    "    def _mad_median(self, y):\n",
    "        sum_dif_median = (np.abs(y - np.median(y))).sum()\n",
    "        mad_median = sum_dif_median/y.shape[0]\n",
    "        return(mad_median)\n",
    "\n",
    "    def _get_proba(self, y):\n",
    "        val, count = np.unique(y, return_counts=True, axis=0)\n",
    "        value_count = np.c_[val, count]\n",
    "        count_y = y.shape[0]\n",
    "        proba = np.c_[value_count[:,0], value_count[:,1]/count_y]\n",
    "        return(proba)\n",
    "    \n",
    "    # Построение дерева\n",
    "    def _information_gain(self, data, data_left, data_right):\n",
    "        count = data.shape[0]\n",
    "        count_left = data_left.shape[0]\n",
    "        count_right = data_right.shape[0]\n",
    "        fval = self.criterion_func(data)\n",
    "        fval_left = self.criterion_func(data_left)\n",
    "        fval_right = self.criterion_func(data_right)\n",
    "        ig = fval - fval_left*count_left/count - fval_right*count_right/count\n",
    "        return(ig)\n",
    "\n",
    "    def _best_split(self, data):\n",
    "        index_y = data.shape[1]-1\n",
    "        best_split = {'ig': 0, 'column': 0, 'val': 0}\n",
    "        for i in range(index_y):\n",
    "            unique_val = np.unique(data[:, i], axis=0)\n",
    "            unique_val = np.sort(unique_val)[:-1]\n",
    "            for val in unique_val:\n",
    "                data_left = data[data[:,i]<=val]\n",
    "                data_right = data[data[:,i]>val]\n",
    "                ig = self._information_gain(data[:, index_y], data_left[:, index_y], data_right[:, index_y])\n",
    "                \n",
    "                if ig > best_split['ig']:\n",
    "                    best_split['ig'] = ig\n",
    "                    best_split['column'] = i\n",
    "                    best_split['val'] = val\n",
    "        if best_split['ig'] == 0:\n",
    "            return(False)\n",
    "        else:\n",
    "            return(best_split)\n",
    "\n",
    "    def _get_tree(self, data, id_tree):\n",
    "        split = data.shape[0]>=self.min_samples_split \\\n",
    "                    and self._best_split(data)\n",
    "        if split and len(id_tree) < self.max_depth:\n",
    "            # Деление ветвей\n",
    "            id_tree_left = id_tree + '1'\n",
    "            id_tree_right = id_tree + '2'\n",
    "            tree = [[id_tree,\n",
    "                    {'column': split['column'], \n",
    "                     'val': split['val'],\n",
    "                     'id_left': id_tree_left,\n",
    "                     'id_right': id_tree_right,\n",
    "                     'is_leaf' : False,\n",
    "                     'leaf_data': None}]]\n",
    "            data_left = data[data[:,split['column']]<=split['val']]\n",
    "            data_right = data[data[:,split['column']]>split['val']]\n",
    "            tree.extend(self._get_tree(data_left, id_tree_left))\n",
    "            tree.extend(self._get_tree(data_right, id_tree_right))\n",
    "            return(tree)\n",
    "        else:\n",
    "            # Формирование листа дерева\n",
    "            proba = self._get_proba(data[:,-1])\n",
    "            tree = [[id_tree,\n",
    "                    {'column': None, \n",
    "                     'val': None,\n",
    "                     'id_left': None,\n",
    "                     'id_right': None,\n",
    "                     'is_leaf' : True,\n",
    "                     'leaf_data': proba}]]\n",
    "        return(tree)\n",
    "\n",
    "    # Поиск решения по дереву\n",
    "    def _get_leaf(self, line, id_tree):\n",
    "        instruction = self.tree[self.tree[:,0]==id_tree][0][1]\n",
    "        if instruction['is_leaf']:\n",
    "            return(instruction['leaf_data'])\n",
    "        else:\n",
    "            if line[instruction['column']]<=instruction['val']:\n",
    "                return(self._get_leaf(line, instruction['id_left']))\n",
    "            else:\n",
    "                return(self._get_leaf(line, instruction['id_right']))\n",
    "\n",
    "    def _get_answer_val(self, answer_arr):\n",
    "        if self.type_answer == 'max_count':\n",
    "            answer = answer_arr[answer_arr[:,1].argsort()]\n",
    "            answer = answer[-1][0]\n",
    "            return(answer)\n",
    "        elif self.type_answer == 'avg':\n",
    "            answer = answer_arr[:,0]*answer_arr[:,1]\n",
    "            answer = answer.sum()\n",
    "            return(answer)"
   ]
  },
  {
   "cell_type": "markdown",
   "metadata": {},
   "source": [
    "## Тестирование реализованного алгоритма"
   ]
  },
  {
   "cell_type": "markdown",
   "metadata": {},
   "source": [
    "### Классификация"
   ]
  },
  {
   "cell_type": "markdown",
   "metadata": {},
   "source": [
    "С помощью метода `load_digits` загрузите датасет `digits`. Разделите выборку на обучающую и тестовую с помощью метода `train_test_split`, используйте значения параметров `test_size=0.2`, `random_state=17`. Попробуйте обучить неглубокие решающие деревья и убедитесь, что критерии gini и entropy дают разные результаты."
   ]
  },
  {
   "cell_type": "code",
   "execution_count": 5,
   "metadata": {},
   "outputs": [],
   "source": [
    "data = load_digits()\n",
    "X, y = data.data, data.target\n",
    "X_train, X_holdout, y_train, y_holdout = train_test_split(X, y, test_size=0.2, random_state=17)"
   ]
  },
  {
   "cell_type": "markdown",
   "metadata": {},
   "source": [
    "С помощью 5-кратной кросс-валидации (`GridSearchCV`) подберите оптимальное значение параметров `max_depth` и `criterion`. Для параметра `max_depth` используйте диапазон значений - range(3, 11), а для criterion - {'gini', 'entropy'}. Критерий качества `scoring`='accuracy'."
   ]
  },
  {
   "cell_type": "code",
   "execution_count": 25,
   "metadata": {},
   "outputs": [
    {
     "name": "stdout",
     "output_type": "stream",
     "text": [
      "Fitting 5 folds for each of 16 candidates, totalling 80 fits\n"
     ]
    },
    {
     "name": "stderr",
     "output_type": "stream",
     "text": [
      "[Parallel(n_jobs=1)]: Using backend SequentialBackend with 1 concurrent workers.\n",
      "[Parallel(n_jobs=1)]: Done  80 out of  80 | elapsed: 16.6min finished\n"
     ]
    },
    {
     "data": {
      "text/plain": [
       "({'criterion': 'entropy', 'max_depth': 9}, 0.8670852690669764)"
      ]
     },
     "execution_count": 25,
     "metadata": {},
     "output_type": "execute_result"
    }
   ],
   "source": [
    "from sklearn.tree import DecisionTreeClassifier\n",
    "\n",
    "estimator = DecisionTree\n",
    "tree_params = {'max_depth': [x for x in range(3, 11)], 'criterion': ['gini', 'entropy']}\n",
    "tree_digits = GridSearchCV(estimator(), tree_params, cv=5, n_jobs=1, scoring='accuracy', iid=False, verbose=1)\n",
    "tree_digits.fit(X_train, y_train)\n",
    "tree_digits.best_params_, tree_digits.best_score_"
   ]
  },
  {
   "cell_type": "markdown",
   "metadata": {},
   "source": [
    "Постройте графики средних значений критерия качества `accuracy` для критериев `gini` и `entropy` в зависимости от `max_depth`."
   ]
  },
  {
   "cell_type": "code",
   "execution_count": 27,
   "metadata": {},
   "outputs": [
    {
     "data": {
      "image/png": "[encoded data removed]",
      "text/plain": [
       "<Figure size 432x288 with 1 Axes>"
      ]
     },
     "metadata": {
      "needs_background": "light"
     },
     "output_type": "display_data"
    },
    {
     "data": {
      "image/png": "[encoded data removed]",
      "text/plain": [
       "<Figure size 432x288 with 1 Axes>"
      ]
     },
     "metadata": {
      "needs_background": "light"
     },
     "output_type": "display_data"
    }
   ],
   "source": [
    "from sklearn.model_selection import validation_curve\n",
    "\n",
    "estimator = DecisionTree\n",
    "param_range = np.array([x for x in range(3, 15)])\n",
    "for criterion in ['gini', 'entropy']:\n",
    "    train_scores, test_scores = validation_curve(estimator=estimator(criterion=criterion),\n",
    "                                     X=X_train, \n",
    "                                     y=y_train,\n",
    "                                     param_name='max_depth',\n",
    "                                     param_range=param_range,\n",
    "                                     cv=5, scoring=\"accuracy\", n_jobs=3, verbose=1)\n",
    "    train_scores_mean = np.mean(train_scores, axis=1)\n",
    "    test_scores_mean = np.mean(test_scores, axis=1)\n",
    "\n",
    "    plt.title(f'Графики средних значений критерия качества (для {criterion})')\n",
    "    plt.xlabel(\"max_depth\")\n",
    "    plt.ylabel(\"Ср. критерий качества\")\n",
    "    plt.plot(param_range, train_scores_mean, label=\"Training score\")\n",
    "    plt.plot(param_range, test_scores_mean, label=\"Test score\")\n",
    "    plt.legend(loc=\"best\")\n",
    "    plt.show()\n"
   ]
  },
  {
   "cell_type": "markdown",
   "metadata": {},
   "source": [
    "**Выберите верные утверждения:**\n",
    "1. Оптимальное значение `max_depth` для каждого критерия достигается на отрезке [4, 9].\n",
    "2. На отрезке [3, 10] построенные графики не пересекаются.\n",
    "3. На отрезке [3, 10] построенные графики пересекаются ровно один раз.\n",
    "4. Наилучшее качество при `max_depth` на интервале [3, 10] достигается при использовании критерия `gini`.\n",
    "5. Хотя бы для одного из критериев значение accuracy строго возрастает с ростом значения `max_depth` на интервале [3, 10]."
   ]
  },
  {
   "cell_type": "markdown",
   "metadata": {},
   "source": [
    "**Чему равны найденные оптимальные значения параметров max_depth и criterion?**\n",
    "1. max_depth = 7, criterion = 'gini';\n",
    "2. max_depth = 7, criterion = 'entropy';\n",
    "3. max_depth = 10, criterion = 'entropy';\n",
    "4. max_depth = 10, criterion = 'gini';\n",
    "5. max_depth = 9, criterion = 'entropy';\n",
    "6. max_depth = 9, criterion = 'gini';"
   ]
  },
  {
   "cell_type": "markdown",
   "metadata": {},
   "source": [
    "Используя найденные оптимальные значения max_depth и criterion, обучите решающее дерево на X_train, y_train и вычислите вероятности принадлежности к классам для X_test."
   ]
  },
  {
   "cell_type": "code",
   "execution_count": 30,
   "metadata": {},
   "outputs": [],
   "source": [
    "import pandas as pd"
   ]
  },
  {
   "cell_type": "code",
   "execution_count": 32,
   "metadata": {},
   "outputs": [],
   "source": [
    "tree_d = DecisionTree(max_depth=9, criterion='entropy')\n",
    "tree_d.fit(X_train, y_train)"
   ]
  },
  {
   "cell_type": "code",
   "execution_count": 42,
   "metadata": {},
   "outputs": [
    {
     "data": {
      "text/html": [
       "<div>\n",
       "<style scoped>\n",
       "    .dataframe tbody tr th:only-of-type {\n",
       "        vertical-align: middle;\n",
       "    }\n",
       "\n",
       "    .dataframe tbody tr th {\n",
       "        vertical-align: top;\n",
       "    }\n",
       "\n",
       "    .dataframe thead th {\n",
       "        text-align: right;\n",
       "    }\n",
       "</style>\n",
       "<table border=\"1\" class=\"dataframe\">\n",
       "  <thead>\n",
       "    <tr style=\"text-align: right;\">\n",
       "      <th></th>\n",
       "      <th>0</th>\n",
       "      <th>1</th>\n",
       "    </tr>\n",
       "  </thead>\n",
       "  <tbody>\n",
       "    <tr>\n",
       "      <th>0</th>\n",
       "      <td>1.0</td>\n",
       "      <td>1.0</td>\n",
       "    </tr>\n",
       "    <tr>\n",
       "      <th>1</th>\n",
       "      <td>8.0</td>\n",
       "      <td>2.0</td>\n",
       "    </tr>\n",
       "    <tr>\n",
       "      <th>2</th>\n",
       "      <td>7.0</td>\n",
       "      <td>7.0</td>\n",
       "    </tr>\n",
       "    <tr>\n",
       "      <th>3</th>\n",
       "      <td>3.0</td>\n",
       "      <td>3.0</td>\n",
       "    </tr>\n",
       "    <tr>\n",
       "      <th>4</th>\n",
       "      <td>9.0</td>\n",
       "      <td>9.0</td>\n",
       "    </tr>\n",
       "  </tbody>\n",
       "</table>\n",
       "</div>"
      ],
      "text/plain": [
       "     0    1\n",
       "0  1.0  1.0\n",
       "1  8.0  2.0\n",
       "2  7.0  7.0\n",
       "3  3.0  3.0\n",
       "4  9.0  9.0"
      ]
     },
     "execution_count": 42,
     "metadata": {},
     "output_type": "execute_result"
    }
   ],
   "source": [
    "tree_d_pred = tree_d.predict(X_holdout)\n",
    "result = np.c_[tree_d_pred, y_holdout]\n",
    "pd.DataFrame(result).head()"
   ]
  },
  {
   "cell_type": "markdown",
   "metadata": {},
   "source": [
    "Для полученной матрицы вычислите усредненные по всем объектам из `X_test` значения вероятностей принадлежности к классам."
   ]
  },
  {
   "cell_type": "code",
   "execution_count": 52,
   "metadata": {},
   "outputs": [
    {
     "data": {
      "text/plain": [
       "(0.9720841959972394, 1.0)"
      ]
     },
     "execution_count": 52,
     "metadata": {},
     "output_type": "execute_result"
    }
   ],
   "source": [
    "tree_d_predict_proba = tree_d.predict_proba(X_holdout)\n",
    "proba = np.sort(tree_d_predict_proba, axis=1)[:,-1]\n",
    "proba.mean(), proba.max()"
   ]
  },
  {
   "cell_type": "markdown",
   "metadata": {},
   "source": [
    "**Вопрос:** Чему примерно равна максимальная вероятность в полученном векторе?\n",
    "1. 0.127\n",
    "2. 0.118\n",
    "3. 1.0\n",
    "4. 0.09"
   ]
  },
  {
   "cell_type": "markdown",
   "metadata": {},
   "source": [
    "### Регрессия"
   ]
  },
  {
   "cell_type": "markdown",
   "metadata": {},
   "source": [
    "С помощью метода `load_boston` загрузите датасет `boston`. Разделите выборку на обучающую и тестовую с помощью метода `train_test_split`, используйте значения параметров `test_size=0.2`, `random_state=17`. Попробуйте обучить неглубокие регрессионные деревья и убедитесь, что критерии `variance` и `mad_median` дают разные результаты."
   ]
  },
  {
   "cell_type": "code",
   "execution_count": 68,
   "metadata": {},
   "outputs": [],
   "source": [
    "data = load_boston()\n",
    "X, y = data.data, data.target\n",
    "X_train, X_holdout, y_train, y_holdout = train_test_split(X, y, test_size=0.2, random_state=17)"
   ]
  },
  {
   "cell_type": "code",
   "execution_count": 72,
   "metadata": {},
   "outputs": [
    {
     "data": {
      "text/plain": [
       "array([ 8.8, 50. , 36.1, 14.6, 41.7, 32.2, 19.4, 20.8, 24.8, 20.6, 15.4,\n",
       "       13.9, 18.7, 28. , 20.5, 23.9, 13.8, 17. , 11.8, 32.4, 23.1, 43.5,\n",
       "       19.5, 45.4, 21.4, 24.8, 16.8, 13.1, 25.1, 32. , 20.6, 23.8, 18.8,\n",
       "       48.5, 18.4, 12.7, 20.3, 22.3, 33. , 22.2, 18.4, 13.8, 18.7, 18.8,\n",
       "       11.9, 21.2, 34.9, 33.4, 17.8, 22.5, 15. , 20. , 21.5, 36.2, 14.1,\n",
       "       29.8, 19.3, 22.2, 20. , 17.2, 19.8, 24.8, 10.4, 50. , 22.6, 25. ,\n",
       "       23.7, 18.9, 15.2, 26.5, 18.3, 24. , 22.4, 19.5, 27.5, 50. , 16.3,\n",
       "       18.2, 23.8, 17.8, 23.8, 23.1, 19.3, 16.7, 12.1, 13.6, 22.5, 22.6,\n",
       "       21.7, 13.1,  9.6, 27.5, 23.3, 11.7, 16. , 18.1, 19.8, 21.4, 44. ,\n",
       "       22.9, 27.1, 13.3, 12.7, 17.9, 16.1, 21.7, 18.5, 19.1, 22.9, 21.9,\n",
       "       21.9, 31. , 23.1, 23.5, 31.2, 10.9, 32.9, 10.5,  7. , 21.8, 21. ,\n",
       "       23.2, 15.4,  7. , 50. , 19.9, 23.4, 13.1, 20.4, 19.4, 22.2, 27.5,\n",
       "       13.1, 50. , 12.8, 24.4, 30.3, 28.5, 24.7, 34.9, 30.1, 25. , 18.6,\n",
       "       16.5, 23.9, 20.7, 21.2, 21.2, 15.6, 24.3,  7.5, 17.1, 20. , 14.9,\n",
       "       17.5,  5. , 19.4, 14.5, 16.6, 23.6, 24.4, 50. , 33.3, 14.6, 24. ,\n",
       "       18. , 23. , 19.1, 28.6,  5. , 17.8,  8.5, 17.8, 14.5, 12. , 14. ,\n",
       "       19.3, 29.6, 13.9, 16.1, 18.5, 26.6, 22.8, 34.6, 15.2, 20.9, 23.8,\n",
       "       22.6, 25. , 22.7, 18.5, 32. , 43.8, 14.1, 19.7, 20.8,  5.6, 32.7,\n",
       "       13.5, 29.4, 33.8, 28.7, 17.3, 19.2, 15.3, 21.4, 10.4, 22.6, 15.2,\n",
       "       27.5, 12.5, 36.5, 19.4, 23.3, 17.2, 10.2, 26.6, 22.2, 18.4, 26.4,\n",
       "       21.5, 15.7, 23.1, 22.9, 31.7, 16.2, 19.3, 31.6, 22. ,  7.2, 21.6,\n",
       "       18.2, 24.5, 50. , 19.9, 46. , 15.6, 14.2,  8.1, 21.7, 21.4, 29. ,\n",
       "       24.3, 17.4, 20.2, 22.6, 19.6, 35.4, 20.3,  8.3, 50. , 22. , 31.1,\n",
       "       26.7, 21.2, 26.2, 27. , 41.3, 20.6, 19.9, 28.7, 48.3, 27.9, 20.8,\n",
       "       21.1, 11.3, 50. , 20.4, 50. , 17.6,  8.5, 22.1, 14.1, 18.3, 50. ,\n",
       "        7.2, 33.1, 35.1, 24.4, 24.5, 19.4, 24.3,  6.3, 17.2, 11.7, 19.5,\n",
       "       22.8, 22. , 29.1, 34.9, 10.2, 44.8, 12.3, 14.3, 29.9, 19.1, 15. ,\n",
       "       50. , 15.6, 21.1, 23.1, 37.3, 24.7, 23.1, 10.8, 42.8, 19.3, 23.7,\n",
       "       20.1, 33.1, 24.8, 16.2, 20.6, 20.1, 24.1, 21.8, 15. , 28.7, 22.4,\n",
       "       16.8, 35.4, 13.8, 21.7, 19.6, 20.1, 23.2, 19.5, 14.9, 37.2,  8.4,\n",
       "       14.8, 20. , 46.7, 25.2, 13.8, 33.2, 36.4, 22.8, 24.6, 28.4, 19. ,\n",
       "       42.3, 21.7, 17.1, 10.5, 22. , 16.6, 25. , 10.2, 16.4, 13.4, 16.5,\n",
       "       20.2, 18.7, 19.4, 33.4, 19. , 29. , 50. , 24.7, 14.4, 13.3,  8.4,\n",
       "       21.2, 34.7, 21.4, 11.5, 19.8, 13.2, 14.3, 31.5, 31.5, 35.2, 12.7,\n",
       "       29.6, 20.3, 23. , 50. , 13.3, 48.8, 21. , 19.6, 25. , 30.7, 26.4,\n",
       "       26.6, 17.5, 23.7,  7.2, 27.1, 11. , 19.1, 30.8, 25. , 14.5, 29.1,\n",
       "        9.5, 22. , 21.6, 11.9, 15.1, 15.6, 20.1, 22.8])"
      ]
     },
     "execution_count": 72,
     "metadata": {},
     "output_type": "execute_result"
    }
   ],
   "source": [
    "y_train"
   ]
  },
  {
   "cell_type": "markdown",
   "metadata": {},
   "source": [
    "С помощью 5-кратной кросс-валидации подберите оптимальное значение параметров `max_depth` и `criterion`. Для параметра `max_depth` используйте диапазон значений - `range(2, 9)`, а для `criterion` - {'variance', 'mad_median'}. Критерий качества `scoring`='neg_mean_squared_error'."
   ]
  },
  {
   "cell_type": "code",
   "execution_count": 94,
   "metadata": {},
   "outputs": [
    {
     "name": "stdout",
     "output_type": "stream",
     "text": [
      "Fitting 5 folds for each of 14 candidates, totalling 70 fits\n"
     ]
    },
    {
     "name": "stderr",
     "output_type": "stream",
     "text": [
      "[Parallel(n_jobs=2)]: Using backend LokyBackend with 2 concurrent workers.\n",
      "[Parallel(n_jobs=2)]: Done  70 out of  70 | elapsed:    1.1s finished\n",
      "c:\\users\\stanislav.lyunchenko\\appdata\\local\\programs\\python\\python37-32\\lib\\site-packages\\sklearn\\model_selection\\_search.py:841: DeprecationWarning: The default of the `iid` parameter will change from True to False in version 0.22 and will be removed in 0.24. This will change numeric results when test-set sizes are unequal.\n",
      "  DeprecationWarning)\n"
     ]
    },
    {
     "data": {
      "text/plain": [
       "({'criterion': 'mse', 'max_depth': 6}, -20.39372323697497)"
      ]
     },
     "execution_count": 94,
     "metadata": {},
     "output_type": "execute_result"
    }
   ],
   "source": [
    "from sklearn.tree import DecisionTreeRegressor\n",
    "\n",
    "estimator = DecisionTreeRegressor #DecisionTree\n",
    "tree_params_boston = {'max_depth': [x for x in range(2, 9)], 'criterion': ['mae', 'mse']}\n",
    "tree_boston = GridSearchCV(estimator(), tree_params_boston, cv=5, n_jobs=2, \n",
    "                           scoring='neg_mean_squared_error', verbose=1)\n",
    "tree_boston.fit(X_train, y_train)\n",
    "tree_boston.best_params_, tree_boston.best_score_"
   ]
  },
  {
   "cell_type": "markdown",
   "metadata": {},
   "source": [
    "Постройте графики средних значений критерия качества `neg_mean_squared_error` для критериев `variance` и `mad_median` в зависимости от `max_depth`."
   ]
  },
  {
   "cell_type": "code",
   "execution_count": 104,
   "metadata": {},
   "outputs": [
    {
     "name": "stderr",
     "output_type": "stream",
     "text": [
      "[Parallel(n_jobs=3)]: Using backend LokyBackend with 3 concurrent workers.\n",
      "[Parallel(n_jobs=3)]: Done  35 out of  35 | elapsed:    0.1s finished\n"
     ]
    },
    {
     "data": {
      "image/png": "[encoded data removed]",
      "text/plain": [
       "<Figure size 432x288 with 1 Axes>"
      ]
     },
     "metadata": {
      "needs_background": "light"
     },
     "output_type": "display_data"
    },
    {
     "name": "stderr",
     "output_type": "stream",
     "text": [
      "[Parallel(n_jobs=3)]: Using backend LokyBackend with 3 concurrent workers.\n",
      "[Parallel(n_jobs=3)]: Done  35 out of  35 | elapsed:    0.0s finished\n"
     ]
    },
    {
     "data": {
      "image/png": "[encoded data removed]",
      "text/plain": [
       "<Figure size 432x288 with 1 Axes>"
      ]
     },
     "metadata": {
      "needs_background": "light"
     },
     "output_type": "display_data"
    }
   ],
   "source": [
    "from sklearn.model_selection import validation_curve\n",
    "\n",
    "estimator = DecisionTreeRegressor\n",
    "param_range_boston = np.array([x for x in range(2, 9)])\n",
    "for criterion in ['mae', 'mse']:\n",
    "    train_scores, test_scores = validation_curve(estimator=estimator(criterion=criterion),\n",
    "                                     X=X_train, \n",
    "                                     y=y_train,\n",
    "                                     param_name='max_depth',\n",
    "                                     param_range=param_range_boston,\n",
    "                                     cv=5, scoring='neg_mean_squared_error', n_jobs=3, verbose=1)\n",
    "    train_scores_mean = np.mean(train_scores, axis=1)\n",
    "    test_scores_mean = np.mean(test_scores, axis=1)\n",
    "\n",
    "    plt.title(f'Графики средних значений критерия качества (для {criterion})')\n",
    "    plt.xlabel(\"max_depth\")\n",
    "    plt.ylabel(\"Ср. критерий качества\")\n",
    "    plt.plot(param_range_boston, train_scores_mean, label=\"Training score\")\n",
    "    plt.plot(param_range_boston, test_scores_mean, label=\"Test score\")\n",
    "    plt.legend(loc=\"best\")\n",
    "    plt.show()"
   ]
  },
  {
   "cell_type": "markdown",
   "metadata": {},
   "source": [
    "**Выберите верные утверждения:**\n",
    "1. На отрезке [2, 8] построенные графики не пересекаются.\n",
    "2. На отрезке [2, 8] построенные графики пересекаются ровно один раз.\n",
    "3. Оптимальное значение `max_depth` для каждого из критериев достигается на границе отрезка [2, 8].\n",
    "4. Наилучшее качество при `max_depth` из [2, 8] достигается при использовании критерия `mad_median`."
   ]
  },
  {
   "cell_type": "markdown",
   "metadata": {},
   "source": [
    "**Чему равны найденные оптимальные значения параметров `max_depth` и `criterion`?**\n",
    "1. max_depth = 9, criterion = 'variance';\n",
    "2. max_depth = 5, criterion = 'mad_median';\n",
    "3. max_depth = 4, criterion = 'variance';\n",
    "4. max_depth = 2, criterion = 'mad_median';\n",
    "5. max_depth = 4, criterion = 'mad_median';\n",
    "6. max_depth = 5, criterion = 'variance';"
   ]
  }
 ],
 "metadata": {
  "kernelspec": {
   "display_name": "Python 3",
   "language": "python",
   "name": "python3"
  },
  "language_info": {
   "codemirror_mode": {
    "name": "ipython",
    "version": 3
   },
   "file_extension": ".py",
   "mimetype": "text/x-python",
   "name": "python",
   "nbconvert_exporter": "python",
   "pygments_lexer": "ipython3",
   "version": "3.7.0"
  },
  "name": "lesson4_part2_Decision_trees.ipynb"
 },
 "nbformat": 4,
 "nbformat_minor": 1
}
